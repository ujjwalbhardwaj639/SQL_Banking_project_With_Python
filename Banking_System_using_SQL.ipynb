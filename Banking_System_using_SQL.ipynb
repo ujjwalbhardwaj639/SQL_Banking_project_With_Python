{
 "cells": [
  {
   "cell_type": "markdown",
   "id": "0baff777",
   "metadata": {},
   "source": [
    "# Banking System with Python and Sql"
   ]
  },
  {
   "cell_type": "markdown",
   "id": "816ca9d4",
   "metadata": {},
   "source": [
    "#### import the mysql.connector library"
   ]
  },
  {
   "cell_type": "code",
   "execution_count": 2,
   "id": "17568005",
   "metadata": {},
   "outputs": [],
   "source": [
    "import mysql.connector as u"
   ]
  },
  {
   "cell_type": "markdown",
   "id": "ac6ea6ea",
   "metadata": {},
   "source": [
    "#### Establishing with mysql database connection "
   ]
  },
  {
   "cell_type": "code",
   "execution_count": 3,
   "id": "e9776819",
   "metadata": {},
   "outputs": [
    {
     "name": "stdout",
     "output_type": "stream",
     "text": [
      "Successfully connected\n"
     ]
    }
   ],
   "source": [
    "database = u.connect(host=\"localhost\",user=\"root\",password=\"Ub1234@\",auth_plugin='mysql_native_password')\n",
    "if database.is_connected():\n",
    "    print(\"Successfully connected\")\n",
    "else:\n",
    "    print(\"Not connected\")"
   ]
  },
  {
   "cell_type": "markdown",
   "id": "1c51d855",
   "metadata": {},
   "source": [
    "#### Makeing cursor "
   ]
  },
  {
   "cell_type": "code",
   "execution_count": 4,
   "id": "5aa95ab2",
   "metadata": {},
   "outputs": [],
   "source": [
    "cur = database.cursor()"
   ]
  },
  {
   "cell_type": "markdown",
   "id": "9da72a7c",
   "metadata": {},
   "source": [
    "#### Creating database  Banking_System\n"
   ]
  },
  {
   "cell_type": "code",
   "execution_count": 11,
   "id": "c00b7fd4",
   "metadata": {},
   "outputs": [],
   "source": [
    "cur.execute(\"Create database Banking_System\")"
   ]
  },
  {
   "cell_type": "markdown",
   "id": "3681a943",
   "metadata": {},
   "source": [
    "#### Create two tables Account and Amount"
   ]
  },
  {
   "cell_type": "code",
   "execution_count": 16,
   "id": "2f5e019b",
   "metadata": {},
   "outputs": [],
   "source": [
    "cur.execute(\"Use Banking_System\")\n",
    "cur.execute(\"Create table Account(Accountno varchar(15) primary key,Name varchar(30),DOB varchar(10),Address varchar(50),Phone_no varchar(10),Opening_balance int)\")"
   ]
  },
  {
   "cell_type": "code",
   "execution_count": 17,
   "id": "de7d2f1b",
   "metadata": {},
   "outputs": [],
   "source": [
    "cur.execute(\"Create table Amount(Accountno varchar(15) primary key,Name varchar(30), Balance int)\")"
   ]
  },
  {
   "cell_type": "markdown",
   "id": "0e162131",
   "metadata": {},
   "source": [
    "#### Make functions of Bank - \n",
    "1.Open Account, 2.Deposit Amount, 3.Withdraw Amount, 4.Check balance, 5.display details of user, 6.close an account "
   ]
  },
  {
   "cell_type": "code",
   "execution_count": 7,
   "id": "2331ed95",
   "metadata": {},
   "outputs": [
    {
     "name": "stdout",
     "output_type": "stream",
     "text": [
      "\n",
      "    1.Open New Account\n",
      "    2.deposit account\n",
      "    3.withdraw amount\n",
      "    4.balance check\n",
      "    5.display details of user\n",
      "    6.close an account\n",
      "    \n",
      "Enter Task number: 1\n",
      "Enter name:Rohit\n",
      "Enter account no:14268100022954\n",
      "Enter DOB:05-05-2002\n",
      "Enter address:Jalalabad'\n",
      "Enter phone:6307737694\n",
      "Enter opening balance:14000\n",
      "Data Entered successfully\n",
      "\n",
      "    1.Open New Account\n",
      "    2.deposit account\n",
      "    3.withdraw amount\n",
      "    4.balance check\n",
      "    5.display details of user\n",
      "    6.close an account\n",
      "    \n",
      "Enter Task number: 7\n",
      "Give Wrong input please enter right input\n"
     ]
    }
   ],
   "source": [
    "def open_account():\n",
    "    name = input(\"Enter name:\")\n",
    "    account_no = input(\"Enter account no:\")\n",
    "    dob = input(\"Enter DOB:\")\n",
    "    address = input(\"Enter address:\")\n",
    "    phone = input(\"Enter phone:\")\n",
    "    open_bal = int(input(\"Enter opening balance:\"))\n",
    "    data1 = (account_no,name,dob,address,phone,open_bal)\n",
    "    data2 = (account_no,name,open_bal)\n",
    "    sql1 = \"insert into Account values(%s,%s,%s,%s,%s,%s)\"\n",
    "    sql2 = \"insert into Amount values(%s,%s,%s)\" \n",
    "    cur = database.cursor()\n",
    "    cur.execute(sql1,data1)\n",
    "    cur.execute(sql2,data2)\n",
    "    database.commit()\n",
    "    print(\"Data Entered successfully\")\n",
    "    main_fun()\n",
    "\n",
    "def deposit_amount():\n",
    "    amount = int(input(\"Enter amount:\"))   \n",
    "    an = input(\"Enter account no:\")\n",
    "    a = \"select balance from Amount where Accountno=%s\"\n",
    "    data = (an,)\n",
    "    cur = database.cursor()\n",
    "    cur.execute(a,data)\n",
    "    result = cur.fetchone()\n",
    "    t = result[0]+amount\n",
    "    sql = \"update Amount set balance=%s where Accountno=%s\"\n",
    "    data = (t,an)\n",
    "    cur.execute(sql,data)\n",
    "    database.commit()\n",
    "    main_fun()\n",
    "\n",
    "def withdraw_amount():\n",
    "    amount = int(input(\"Enter amount:\"))   \n",
    "    an = input(\"Enter account no:\")\n",
    "    a = \"select balance from Amount where Accountno=%s\"\n",
    "    data = (an,)\n",
    "    cur = database.cursor()\n",
    "    cur.execute(a,data)\n",
    "    result = cur.fetchone()\n",
    "    t = result[0]-amount\n",
    "    sql = \"update Amount set balance=%s where Accountno=%s\"\n",
    "    data = (t,an)\n",
    "    cur.execute(sql,data)\n",
    "    database.commit()\n",
    "    main_fun()\n",
    "    \n",
    "    \n",
    "#ac = account_number \n",
    "def check_balance():\n",
    "    ac = input(\"Enter account no:\")\n",
    "    a = \"select balance from Amount where Accountno=%s\"\n",
    "    data = (ac,)\n",
    "    cur = database.cursor()\n",
    "    cur.execute(a,data)\n",
    "    result = cur.fetchone()\n",
    "    print(\"Balance for Account:\",ac,\"is\",result[0])\n",
    "    main_fun()\n",
    "\n",
    "\n",
    "\n",
    "def display_user_details():\n",
    "    ac = input(\"Enter account no:\")\n",
    "    a = \"select * from Amount where Accountno=%s\"\n",
    "    data = (ac,)\n",
    "    cur = database.cursor()\n",
    "    cur.execute(a,data)\n",
    "    result = cur.fetchone()\n",
    "    for i in result:\n",
    "        print(i,end=\" \")  \n",
    "    main_fun()\n",
    "\n",
    "\n",
    "def close_account():\n",
    "    ac = input(\"Enter account no:\")\n",
    "    sql1 = \"delete from Account where Accountno=%s\"\n",
    "    sql2= \"delete from Amount where Accountno=%s\"\n",
    "    data = (ac,)\n",
    "    cur = database.cursor()\n",
    "    cur.execute(sql1,data)\n",
    "    cur.execute(sql2,data)\n",
    "    database.commit()\n",
    "    main_fun()\n",
    "    \n",
    "def main_fun():\n",
    "    print(\"\"\"\n",
    "    1.Open New Account\n",
    "    2.deposit account\n",
    "    3.withdraw amount\n",
    "    4.balance check\n",
    "    5.display details of user\n",
    "    6.close an account\n",
    "    \"\"\")\n",
    "    choice = int(input(\"Enter Task number: \"))\n",
    "    if(choice==1):\n",
    "        open_account()\n",
    "    elif(choice==2):\n",
    "        deposit_amount()\n",
    "    elif(choice==3):\n",
    "        withdraw_amount()\n",
    "    elif(choice==4):\n",
    "        check_balance()\n",
    "    elif(choice==5):\n",
    "        display_user_details()\n",
    "    elif(choice==6):\n",
    "        close_account()\n",
    "    else:\n",
    "        print(\"Give Wrong input please enter right input\")\n",
    "main_fun()"
   ]
  },
  {
   "cell_type": "markdown",
   "id": "e31513d2",
   "metadata": {},
   "source": [
    "#### To show all results from first table and second table "
   ]
  },
  {
   "cell_type": "code",
   "execution_count": 8,
   "id": "a70ac55b",
   "metadata": {},
   "outputs": [
    {
     "name": "stdout",
     "output_type": "stream",
     "text": [
      "('14268100022949', 'Shubh', '18-02-2002', 'Meerut', '9411618152', 10000)\n",
      "('14268100022950', 'Sauhard', '10-10-2002', 'Greater Noida', '9311407838', 11000)\n",
      "('14268100022951', 'Ujjwal', '08-04-2002', 'Bareilly', '6394843373', 12000)\n",
      "('14268100022952', 'Varun', '30-10-2002', 'Meerut', '9528504921', 13000)\n",
      "('14268100022953', 'Visal', '24-10-2002', 'Balia', '9643946578', 14000)\n",
      "('14268100022954', 'Rohit', '05-05-2002', \"Jalalabad'\", '6307737694', 14000)\n"
     ]
    }
   ],
   "source": [
    "cur.execute(\"select * from Account\")\n",
    "for i in cur:\n",
    "    print(i)"
   ]
  },
  {
   "cell_type": "code",
   "execution_count": 9,
   "id": "59eb4da5",
   "metadata": {},
   "outputs": [
    {
     "name": "stdout",
     "output_type": "stream",
     "text": [
      "('14268100022949', 'Shubh', 10000)\n",
      "('14268100022950', 'Sauhard', 11000)\n",
      "('14268100022951', 'Ujjwal', 12000)\n",
      "('14268100022952', 'Varun', 13000)\n",
      "('14268100022953', 'Visal', 13000)\n",
      "('14268100022954', 'Rohit', 14000)\n"
     ]
    }
   ],
   "source": [
    "cur.execute(\"select * from Amount\")\n",
    "for i in cur:\n",
    "    print(i)"
   ]
  },
  {
   "cell_type": "markdown",
   "id": "c47cd4a5",
   "metadata": {},
   "source": [
    "#### Withdraw amount from any account "
   ]
  },
  {
   "cell_type": "code",
   "execution_count": 27,
   "id": "56b74cda",
   "metadata": {},
   "outputs": [
    {
     "name": "stdout",
     "output_type": "stream",
     "text": [
      "\n",
      "    1.Open New Account\n",
      "    2.deposit account\n",
      "    3.withdraw amount\n",
      "    4.balance check\n",
      "    5.display details of user\n",
      "    6.close an account\n",
      "    \n",
      "Enter Task number: 3\n",
      "Enter amount:1000\n",
      "Enter account no:14268100022953\n",
      "\n",
      "    1.Open New Account\n",
      "    2.deposit account\n",
      "    3.withdraw amount\n",
      "    4.balance check\n",
      "    5.display details of user\n",
      "    6.close an account\n",
      "    \n",
      "Enter Task number: 7\n",
      "Give Wrong input please enter right input\n"
     ]
    }
   ],
   "source": [
    "main_fun()"
   ]
  },
  {
   "cell_type": "markdown",
   "id": "141857ba",
   "metadata": {},
   "source": [
    "#### After withdraw result"
   ]
  },
  {
   "cell_type": "code",
   "execution_count": 10,
   "id": "12cbc822",
   "metadata": {},
   "outputs": [
    {
     "name": "stdout",
     "output_type": "stream",
     "text": [
      "('14268100022949', 'Shubh', 10000)\n",
      "('14268100022950', 'Sauhard', 11000)\n",
      "('14268100022951', 'Ujjwal', 12000)\n",
      "('14268100022952', 'Varun', 13000)\n",
      "('14268100022953', 'Visal', 13000)\n",
      "('14268100022954', 'Rohit', 14000)\n"
     ]
    }
   ],
   "source": [
    "cur.execute(\"select * from Amount\")\n",
    "for i in cur:\n",
    "    print(i)"
   ]
  },
  {
   "cell_type": "markdown",
   "id": "5c84ccaf",
   "metadata": {},
   "source": [
    "#### Check balance"
   ]
  },
  {
   "cell_type": "code",
   "execution_count": 12,
   "id": "4abce32f",
   "metadata": {},
   "outputs": [
    {
     "name": "stdout",
     "output_type": "stream",
     "text": [
      "\n",
      "    1.Open New Account\n",
      "    2.deposit account\n",
      "    3.withdraw amount\n",
      "    4.balance check\n",
      "    5.display details of user\n",
      "    6.close an account\n",
      "    \n",
      "Enter Task number: 4\n",
      "Enter account no:14268100022951\n",
      "Balance for Account: 14268100022951 is 12000\n",
      "\n",
      "    1.Open New Account\n",
      "    2.deposit account\n",
      "    3.withdraw amount\n",
      "    4.balance check\n",
      "    5.display details of user\n",
      "    6.close an account\n",
      "    \n",
      "Enter Task number: 7\n",
      "Give Wrong input please enter right input\n"
     ]
    }
   ],
   "source": [
    "main_fun()"
   ]
  },
  {
   "cell_type": "markdown",
   "id": "512afc8a",
   "metadata": {},
   "source": [
    "#### Display details of user"
   ]
  },
  {
   "cell_type": "code",
   "execution_count": 14,
   "id": "37a49456",
   "metadata": {},
   "outputs": [
    {
     "name": "stdout",
     "output_type": "stream",
     "text": [
      "\n",
      "    1.Open New Account\n",
      "    2.deposit account\n",
      "    3.withdraw amount\n",
      "    4.balance check\n",
      "    5.display details of user\n",
      "    6.close an account\n",
      "    \n",
      "Enter Task number: 5\n",
      "Enter account no:14268100022951\n",
      "14268100022951 Ujjwal 12000 \n",
      "    1.Open New Account\n",
      "    2.deposit account\n",
      "    3.withdraw amount\n",
      "    4.balance check\n",
      "    5.display details of user\n",
      "    6.close an account\n",
      "    \n",
      "Enter Task number: 7\n",
      "Give Wrong input please enter right input\n"
     ]
    }
   ],
   "source": [
    "main_fun()"
   ]
  },
  {
   "cell_type": "markdown",
   "id": "2fc14553",
   "metadata": {},
   "source": [
    "#### Close account"
   ]
  },
  {
   "cell_type": "code",
   "execution_count": 15,
   "id": "98a9e2a4",
   "metadata": {},
   "outputs": [
    {
     "name": "stdout",
     "output_type": "stream",
     "text": [
      "\n",
      "    1.Open New Account\n",
      "    2.deposit account\n",
      "    3.withdraw amount\n",
      "    4.balance check\n",
      "    5.display details of user\n",
      "    6.close an account\n",
      "    \n",
      "Enter Task number: 6\n",
      "Enter account no:14268100022954\n",
      "\n",
      "    1.Open New Account\n",
      "    2.deposit account\n",
      "    3.withdraw amount\n",
      "    4.balance check\n",
      "    5.display details of user\n",
      "    6.close an account\n",
      "    \n",
      "Enter Task number: 7\n",
      "Give Wrong input please enter right input\n"
     ]
    }
   ],
   "source": [
    "main_fun()"
   ]
  },
  {
   "cell_type": "markdown",
   "id": "64c77be5",
   "metadata": {},
   "source": [
    "#### show result after close account"
   ]
  },
  {
   "cell_type": "code",
   "execution_count": 17,
   "id": "4d0d2657",
   "metadata": {},
   "outputs": [
    {
     "name": "stdout",
     "output_type": "stream",
     "text": [
      "('14268100022949', 'Shubh', 10000)\n",
      "('14268100022950', 'Sauhard', 11000)\n",
      "('14268100022951', 'Ujjwal', 12000)\n",
      "('14268100022952', 'Varun', 13000)\n",
      "('14268100022953', 'Visal', 13000)\n"
     ]
    }
   ],
   "source": [
    "cur.execute(\"select * from Amount\")\n",
    "for i in cur:\n",
    "    print(i)"
   ]
  }
 ],
 "metadata": {
  "kernelspec": {
   "display_name": "Python 3 (ipykernel)",
   "language": "python",
   "name": "python3"
  },
  "language_info": {
   "codemirror_mode": {
    "name": "ipython",
    "version": 3
   },
   "file_extension": ".py",
   "mimetype": "text/x-python",
   "name": "python",
   "nbconvert_exporter": "python",
   "pygments_lexer": "ipython3",
   "version": "3.10.9"
  }
 },
 "nbformat": 4,
 "nbformat_minor": 5
}
